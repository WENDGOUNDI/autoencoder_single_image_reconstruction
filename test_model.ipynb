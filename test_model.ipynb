{
 "cells": [
  {
   "cell_type": "code",
   "execution_count": 1,
   "id": "ccdd1f72",
   "metadata": {},
   "outputs": [],
   "source": [
    "import tensorflow as tf\n",
    "import cv2\n",
    "from tensorflow.keras.preprocessing.image import img_to_array\n",
    "import numpy as np\n",
    "\n",
    "\n",
    "config = tf.compat.v1.ConfigProto()\n",
    "config.gpu_options.allow_growth = True\n",
    "sess = tf.compat.v1.Session(config=config)"
   ]
  },
  {
   "cell_type": "code",
   "execution_count": 5,
   "id": "5425227c",
   "metadata": {},
   "outputs": [],
   "source": [
    "\n",
    "SIZE = 256\n",
    "rec = tf.keras.models.load_model('reconstruction_image.h5')\n",
    "\n",
    "image_data = []\n",
    "\n",
    "image = cv2.imread(\"./face_with_glasses.jpg\")\n",
    "image = cv2.cvtColor(image, cv2.COLOR_BGR2RGB)\n",
    "image = cv2.resize(image, (SIZE,SIZE))\n",
    "image_data.append(img_to_array(image))\n",
    "\n",
    "image_array = np.reshape(image_data, (len(image_data), SIZE,SIZE, 3))\n",
    "image_array = image_array.astype(\"float32\") / 255.\n",
    "\n",
    "rec = tf.keras.models.load_model('reconstruction_image.h5')\n",
    "\n",
    "prediction = rec.predict(image_array)\n",
    "\n",
    "predicted_image = prediction[0].reshape(SIZE, SIZE,3)\n",
    "recons_image_display = cv2.cvtColor(predicted_image, cv2.COLOR_BGR2RGB)\n",
    "\n",
    "cv2.imshow(\"recons\", recons_image_display)\n",
    "cv2.waitKey(0)\n",
    "cv2.destroyAllWindows()"
   ]
  },
  {
   "cell_type": "code",
   "execution_count": null,
   "id": "7c611dd9",
   "metadata": {},
   "outputs": [],
   "source": []
  }
 ],
 "metadata": {
  "kernelspec": {
   "display_name": "Python 3",
   "language": "python",
   "name": "python3"
  },
  "language_info": {
   "codemirror_mode": {
    "name": "ipython",
    "version": 3
   },
   "file_extension": ".py",
   "mimetype": "text/x-python",
   "name": "python",
   "nbconvert_exporter": "python",
   "pygments_lexer": "ipython3",
   "version": "3.8.0"
  }
 },
 "nbformat": 4,
 "nbformat_minor": 5
}
